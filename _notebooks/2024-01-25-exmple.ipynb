{
 "cells": [
  {
   "cell_type": "markdown",
   "metadata": {},
   "source": [
    "---\n",
    "toc: true\n",
    "comments: true\n",
    "layout: notebook\n",
    "title: Sample\n",
    "description: An in depth deployment lesson \n",
    "authors: Aliya, Anthony, Emaad, Emma, Ethan T., Grace, Tay, Vivian\n",
    "type: hacks\n",
    "courses: { csa: {week: 19} }\n",
    "---"
   ]
  },
  {
   "cell_type": "markdown",
   "metadata": {},
   "source": [
    "# CORS\n",
    "- Cross-Origin Resource Sharing (CORS) is a security feature implemented by web browsers to control how web pages in one domain can request and interact with resources from another domain.\n",
    "[corserror](/images/cors.png)\n",
    "\n",
    "- CORS is a set of rules that enable or restrict cross-origin (cross-site) HTTP requests made by scripts running on a web page. \n",
    "- It helps to prevent potentially harmful requests and enhances web security which is why it is so important\n",
    "\n",
    "## Implementation on the Backend\n",
    "1. MvcConfig.java"
   ]
  }
 ],
 "metadata": {
  "language_info": {
   "name": "python"
  }
 },
 "nbformat": 4,
 "nbformat_minor": 2
}
