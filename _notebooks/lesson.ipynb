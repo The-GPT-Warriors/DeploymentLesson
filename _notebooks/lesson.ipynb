{
 "cells": [
  {
   "cell_type": "markdown",
   "metadata": {},
   "source": [
    "---\n",
    "comments: true\n",
    "layout: notebook\n",
    "title: Deployment\n",
    "description: An in depth deployment lesson \n",
    "type: hacks\n",
    "toc: true\n",
    "courses: { csa: {week: 18} }\n",
    "---"
   ]
  },
  {
   "cell_type": "markdown",
   "metadata": {},
   "source": [
    "# CORS\n",
    "- Cross-Origin Resource Sharing (CORS) is a security feature implemented by web browsers to control how web pages in one domain can request and interact with resources from another domain.\n",
    "[corserror](/images/cors.png)\n",
    "\n",
    "- CORS is a set of rules that enable or restrict cross-origin (cross-site) HTTP requests made by scripts running on a web page. \n",
    "- It helps to prevent potentially harmful requests and enhances web security which is why it is so important\n",
    "\n",
    "## Implementation on the Backend\n",
    "1. MvcConfig.java"
   ]
  },
  {
   "cell_type": "code",
   "execution_count": null,
   "metadata": {
    "vscode": {
     "languageId": "java"
    }
   },
   "outputs": [],
   "source": [
    "package com.nighthawk.spring_portfolio;\n",
    "\n",
    "import org.springframework.context.annotation.*;\n",
    "import org.springframework.web.servlet.config.annotation.*;\n",
    "\n",
    "@Configuration\n",
    "public class MvcConfig implements WebMvcConfigurer {\n",
    "\n",
    "    // set up your own index\n",
    "    @Override\n",
    "    public void addViewControllers(ViewControllerRegistry registry) {\n",
    "        registry.addViewController(\"/login\").setViewName(\"login\");\n",
    "    }\n",
    "\n",
    "    /* map path and location for \"uploads\" outside of application resources\n",
    "       ... creates a directory outside \"static\" folder, \"file:volumes/uploads\"\n",
    "       ... CRITICAL, without this uploaded file will not be loaded/displayed by frontend\n",
    "     */\n",
    "    @Override\n",
    "    public void addResourceHandlers(final ResourceHandlerRegistry registry) {\n",
    "        registry.addResourceHandler(\"/volumes/uploads/**\").addResourceLocations(\"file:volumes/uploads/\");\n",
    "    }\n",
    "\n",
    "    \n",
    "    @Override\n",
    "    public void addCorsMappings(CorsRegistry registry) {\n",
    "        registry.addMapping(\"/**\").allowedOrigins(\"https://nighthawkcoders.github.io\", \"http://localhost:4000\");\n",
    "    }\n",
    "    \n",
    "}"
   ]
  },
  {
   "cell_type": "markdown",
   "metadata": {},
   "source": [
    "- The last function adds a mapping to allow cross origin requests from specific urls, in this case \"https://nighthawkcoders.github.io\" and \"http://localhost:4000\""
   ]
  },
  {
   "cell_type": "code",
   "execution_count": null,
   "metadata": {},
   "outputs": [],
   "source": []
  },
  {
   "cell_type": "code",
   "execution_count": null,
   "metadata": {},
   "outputs": [],
   "source": []
  }
 ],
 "metadata": {
  "language_info": {
   "name": "python"
  }
 },
 "nbformat": 4,
 "nbformat_minor": 2
}
