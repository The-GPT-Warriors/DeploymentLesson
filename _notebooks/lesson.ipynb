{
 "cells": [
  {
   "cell_type": "markdown",
   "metadata": {},
   "source": [
    "---\n",
    "comments: true\n",
    "layout: notebook\n",
    "title: Deployment\n",
    "description: An in depth deployment lesson \n",
    "type: hacks\n",
    "toc: true\n",
    "courses: { csa: {week: 18} }\n",
    "---"
   ]
  },
  {
   "cell_type": "markdown",
   "metadata": {},
   "source": [
    "# CORS\n",
    "- Cross-Origin Resource Sharing (CORS) is a security feature implemented by web browsers to control how web pages in one domain can request and interact with resources from another domain.\n",
    "[corserror](/images/cors.png)\n",
    "\n",
    "- CORS is a set of rules that enable or restrict cross-origin (cross-site) HTTP requests made by scripts running on a web page. \n",
    "- It helps to prevent potentially harmful requests and enhances web security which is why it is so important\n",
    "\n",
    "## Implementation on the Backend\n",
    "1. MvcConfig.java"
   ]
  },
  {
   "cell_type": "code",
   "execution_count": null,
   "metadata": {
    "vscode": {
     "languageId": "java"
    }
   },
   "outputs": [],
   "source": [
    "package com.nighthawk.spring_portfolio;\n",
    "\n",
    "import org.springframework.context.annotation.*;\n",
    "import org.springframework.web.servlet.config.annotation.*;\n",
    "\n",
    "@Configuration\n",
    "public class MvcConfig implements WebMvcConfigurer {\n",
    "\n",
    "    // set up your own index\n",
    "    @Override\n",
    "    public void addViewControllers(ViewControllerRegistry registry) {\n",
    "        registry.addViewController(\"/login\").setViewName(\"login\");\n",
    "    }\n",
    "\n",
    "    /* map path and location for \"uploads\" outside of application resources\n",
    "       ... creates a directory outside \"static\" folder, \"file:volumes/uploads\"\n",
    "       ... CRITICAL, without this uploaded file will not be loaded/displayed by frontend\n",
    "     */\n",
    "    @Override\n",
    "    public void addResourceHandlers(final ResourceHandlerRegistry registry) {\n",
    "        registry.addResourceHandler(\"/volumes/uploads/**\").addResourceLocations(\"file:volumes/uploads/\");\n",
    "    }\n",
    "\n",
    "    \n",
    "    @Override\n",
    "    public void addCorsMappings(CorsRegistry registry) {\n",
    "        registry.addMapping(\"/**\").allowedOrigins(\"https://nighthawkcoders.github.io\", \"http://localhost:4000\");\n",
    "    }\n",
    "    \n",
    "}"
   ]
  },
  {
   "cell_type": "markdown",
   "metadata": {},
   "source": [
    "- The last function adds a mapping to allow cross origin requests from specific urls, in this case \"https://nighthawkcoders.github.io\" and \"http://localhost:4000\""
   ]
  },
  {
   "cell_type": "code",
   "execution_count": null,
   "metadata": {},
   "outputs": [],
   "source": []
  },
  {
   "cell_type": "code",
   "execution_count": null,
   "metadata": {},
   "outputs": [],
   "source": []
  },
  {
   "cell_type": "markdown",
   "metadata": {},
   "source": [
    "# DotEnv\n",
    "- DotEnv is the use of a .env file within a project to handle sensitive data, including API keys and database credentials.\n",
    "- The term \"dotenv\" is frequently associated with a specific library or tool that integrates these variables into the application's environment.\n",
    "- Its core objective is to refrain from putting confidential information, like access tokens, directly into the source code or version control. Instead, such details are put in the .env file, customized for each distinct environment.\n",
    "\n",
    "## DotEnv in relation to JWT\n",
    "- JWTs are digitally signed using either a secret (HMAC) or a public/private key pair (RSA or ECDSA) which safeguards them from being modified by the client or an attacker\n",
    "[jwt](/images/jwt.png)\n",
    "- Using a .env file, you can store your JWT secret key and keep sensitive information secure. \n",
    "\n",
    "## Implementation\n",
    "1. Navigate to your project's root directory using the command line: example - \n",
    "```cd /home/aliyatang/vscode/aliyaBlog```\n",
    "2. Initialize a new package.json file for your project:\n",
    "```npm init -y```\n",
    "3. Install dotenv\n",
    "```npm install dotenv```\n",
    "4. Create .env file in root of project, in this file set JWT secret key: example - ```JWT_SECRET=your_secret_key```\n",
    "5. In the beginning of your app file (like app.js or index.js), require and configure dotenv so you can load variables from .env file into process.env: ```require('dotenv').config()```\n",
    "6. Whenever you need to sign or verify JWT, use the secret from the environment variables, keep key secure and easily configureable: ```const jwtSecret = process.env.JWT_SECRET;```\n",
    "\n",
    "## Good Practices\n",
    "- Never commit `.env`, always keep `.env` in `.gitignore`, to prevent it being pushed to version control\n",
    "- Reguarly rotate secret keys for good security"
   ]
  }
 ],
 "metadata": {
  "language_info": {
   "name": "python"
  }
 },
 "nbformat": 4,
 "nbformat_minor": 2
}
